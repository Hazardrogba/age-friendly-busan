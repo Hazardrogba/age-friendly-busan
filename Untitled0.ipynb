{
  "nbformat": 4,
  "nbformat_minor": 0,
  "metadata": {
    "colab": {
      "name": "Untitled0.ipynb",
      "provenance": [],
      "authorship_tag": "ABX9TyMQBRsEkN1aYXJGINHoNN4V",
      "include_colab_link": true
    },
    "kernelspec": {
      "name": "python3",
      "display_name": "Python 3"
    },
    "language_info": {
      "name": "python"
    }
  },
  "cells": [
    {
      "cell_type": "markdown",
      "metadata": {
        "id": "view-in-github",
        "colab_type": "text"
      },
      "source": [
        "<a href=\"https://colab.research.google.com/github/Hazardrogba/age-friendly-busan/blob/main/Untitled0.ipynb\" target=\"_parent\"><img src=\"https://colab.research.google.com/assets/colab-badge.svg\" alt=\"Open In Colab\"/></a>"
      ]
    },
    {
      "cell_type": "markdown",
      "source": [
        "## 집값 계산\n",
        "집값을 *계산하는*식 **price**은 다음과 같다.  $price(ages) = \\alpha * e^(ages) $"
      ],
      "metadata": {
        "id": "GgTT-NbVgiEc"
      }
    },
    {
      "cell_type": "code",
      "source": [
        "def price(ages):\n",
        "  return alpha * exp(ages)"
      ],
      "metadata": {
        "id": "JCtEsB6ag_4I"
      },
      "execution_count": 2,
      "outputs": []
    },
    {
      "cell_type": "code",
      "source": [
        "def expected_ages ():"
      ],
      "metadata": {
        "id": "Z4AF7eFjh7NN"
      },
      "execution_count": null,
      "outputs": []
    }
  ]
}